{
 "cells": [
  {
   "cell_type": "markdown",
   "id": "0862cf44-d3a0-4352-a2d3-89ed31df0c5a",
   "metadata": {},
   "source": [
    "# Text Adventure Game\n",
    "\n",
    "This notebook describes the foundations of a Text Adventure Game.\n",
    "\n",
    "We will need two main classes:\n",
    "\n",
    "1. `Node`\n",
    "2. `Edge`\n",
    "\n",
    "In addition, we'll also need a `Game` class to keep track of where we are.\n",
    "\n",
    "## Nodes\n",
    "\n",
    "The Node will keep track of where we are in a game. This might be a physical place, or a state.\n",
    "\n",
    "For example, you might move from room to room in a castle. Those would be physical places.\n",
    "\n",
    "Or, you might do something (like drink a potion) that would make you grow smaller. Those would be changing your state, or the state that you are in."
   ]
  },
  {
   "cell_type": "code",
   "execution_count": 1,
   "id": "f127a695-1083-4115-8ea3-52b10aac2e9b",
   "metadata": {},
   "outputs": [],
   "source": [
    "class Node():\n",
    "    def __init__(self, name, description):\n",
    "        self.name = name\n",
    "        self.description = description\n",
    "        self.edges = []\n",
    "        \n",
    "    def display(self):\n",
    "        print(self.description)\n",
    "        if self.edges:\n",
    "            paths = \", \".join([edge.command for edge in self.edges])\n",
    "            print(\"You see paths to the \" + paths)"
   ]
  },
  {
   "cell_type": "markdown",
   "id": "ab7ac36d-794a-4661-8b99-35a85198844a",
   "metadata": {},
   "source": [
    "Here are a couple of nodes. You create them by giving a name, and a description:"
   ]
  },
  {
   "cell_type": "code",
   "execution_count": 2,
   "id": "30897eb3-f686-4f50-816b-dd58a8693a74",
   "metadata": {},
   "outputs": [],
   "source": [
    "start = Node(\"start\", \"You find yourself in front of a scary mansion.\")\n",
    "end = Node(\"end\", \"You completed the game!\")"
   ]
  },
  {
   "cell_type": "markdown",
   "id": "99242625-1575-4db5-8c36-dc5906f8ab63",
   "metadata": {},
   "source": [
    "You can tell a node to display itself with: "
   ]
  },
  {
   "cell_type": "code",
   "execution_count": 3,
   "id": "5dd5698b-5344-4390-9ab7-f0060696646e",
   "metadata": {},
   "outputs": [
    {
     "name": "stdout",
     "output_type": "stream",
     "text": [
      "You find yourself in front of a scary mansion.\n"
     ]
    }
   ],
   "source": [
    "start.display()"
   ]
  },
  {
   "cell_type": "code",
   "execution_count": 4,
   "id": "6dc80606-5600-43cc-ad5e-00a86dd0947b",
   "metadata": {},
   "outputs": [
    {
     "name": "stdout",
     "output_type": "stream",
     "text": [
      "You completed the game!\n"
     ]
    }
   ],
   "source": [
    "end.display()"
   ]
  },
  {
   "cell_type": "markdown",
   "id": "ac3faaf5-f087-4069-ba0d-75fde2e7fae8",
   "metadata": {},
   "source": [
    "## Edges"
   ]
  },
  {
   "cell_type": "markdown",
   "id": "6929b2fb-5053-4f82-add4-c53a4fb2e881",
   "metadata": {},
   "source": [
    "You can connect Nodes by creating an edge. An Edge takes a command (like \"north\") and the name of a Node to which that command would take you."
   ]
  },
  {
   "cell_type": "code",
   "execution_count": 5,
   "id": "78efd4ff-69b2-4675-a70e-28c6e90bd145",
   "metadata": {},
   "outputs": [],
   "source": [
    "class Edge():\n",
    "    def __init__(self, command, to_node_name):\n",
    "        self.command = command\n",
    "        self.to_node_name = to_node_name"
   ]
  },
  {
   "cell_type": "markdown",
   "id": "cc7aedf0-f0a0-4e37-8772-f1f4018ffd03",
   "metadata": {},
   "source": [
    "For example, to make a command that takes you from \"start\" to \"end\" via the command \"north\", do this:"
   ]
  },
  {
   "cell_type": "code",
   "execution_count": 6,
   "id": "cb296e6b-5124-496c-86b4-3fb8189791f2",
   "metadata": {},
   "outputs": [],
   "source": [
    "start.edges.append(Edge(\"north\", \"end\"))"
   ]
  },
  {
   "cell_type": "markdown",
   "id": "98cd3d43-69a3-4c2b-a6da-23fff14f2732",
   "metadata": {},
   "source": [
    "Now, when we display the start node again, we see:"
   ]
  },
  {
   "cell_type": "code",
   "execution_count": 7,
   "id": "6d4c02f9-53b5-45f3-a261-71cad3cafc5f",
   "metadata": {},
   "outputs": [
    {
     "name": "stdout",
     "output_type": "stream",
     "text": [
      "You find yourself in front of a scary mansion.\n",
      "You see paths to the north\n"
     ]
    }
   ],
   "source": [
    "start.display()"
   ]
  },
  {
   "cell_type": "markdown",
   "id": "318e2e37-1c92-4f9a-bf5a-cc7c4124268f",
   "metadata": {},
   "source": [
    "## The Text Adventure Game Engine\n",
    "\n",
    "We call this an \"engine\" because it can really run any game of your making, and the code doesn't need to change. The Game simply takes a list of Nodes that already have their nodes set:"
   ]
  },
  {
   "cell_type": "code",
   "execution_count": 8,
   "id": "73b9a42f-d6d0-4423-b8ef-f86b81faf009",
   "metadata": {},
   "outputs": [],
   "source": [
    "class Game():\n",
    "    def __init__(self, nodes):\n",
    "        self.nodes = {}\n",
    "        self.current = None\n",
    "        for node in nodes:\n",
    "            self.nodes[node.name] = node\n",
    "            if self.current is None:\n",
    "                self.current = node\n",
    "            \n",
    "    def play(self):\n",
    "        self.current = self.nodes[\"start\"]\n",
    "        while True:\n",
    "            self.current.display()\n",
    "            if self.current.edges:\n",
    "                command = input(\"Enter a command: \")\n",
    "                for node in self.current.edges:\n",
    "                    if command == node.command:\n",
    "                        self.current = self.nodes[node.to_node_name]\n",
    "            else:\n",
    "                break\n",
    "            "
   ]
  },
  {
   "cell_type": "markdown",
   "id": "38da6d1d-64ee-4814-88ce-2ddae7a02f8e",
   "metadata": {},
   "source": [
    "To play this simple two-node game, you can:"
   ]
  },
  {
   "cell_type": "code",
   "execution_count": 9,
   "id": "9f99ced1-2f38-416d-88f4-84c93e2891fc",
   "metadata": {},
   "outputs": [],
   "source": [
    "game = Game([start, end])"
   ]
  },
  {
   "cell_type": "markdown",
   "id": "f65d74a4-70d9-4b4e-9873-58e8f5bb6fcf",
   "metadata": {},
   "source": [
    "Enter a command at the prompt:"
   ]
  },
  {
   "cell_type": "code",
   "execution_count": 10,
   "id": "f975a232-9dcc-46f5-86ac-eb180c1c9a54",
   "metadata": {},
   "outputs": [
    {
     "name": "stdout",
     "output_type": "stream",
     "text": [
      "You find yourself in front of a scary mansion.\n",
      "You see paths to the north\n"
     ]
    },
    {
     "name": "stdin",
     "output_type": "stream",
     "text": [
      "Enter a command:  north\n"
     ]
    },
    {
     "name": "stdout",
     "output_type": "stream",
     "text": [
      "You completed the game!\n"
     ]
    }
   ],
   "source": [
    "game.play()"
   ]
  },
  {
   "cell_type": "markdown",
   "id": "64a29499-8e84-49a1-8c99-10fa5c71b0d2",
   "metadata": {},
   "source": [
    "## Loading a Game from a File\n",
    "\n",
    "To make it easy on us, the game designers, we will put all of the nodes and edges into a CSV (Comma-Separated Value) file:"
   ]
  },
  {
   "cell_type": "code",
   "execution_count": 11,
   "id": "1702afb8-a23a-4f1e-944c-fbec87266b98",
   "metadata": {},
   "outputs": [
    {
     "name": "stdout",
     "output_type": "stream",
     "text": [
      "Overwriting my_game.csv\n"
     ]
    }
   ],
   "source": [
    "%%file my_game.csv\n",
    "\"column1\",\"column2\",\"column3\",\"column4\"\n",
    "\"node\",\"start\",\"You find yourself in front of a scary mansion.\"\n",
    "\"node\",\"end\",\"You completed the game!\"\n",
    "\"edge\",\"start\",\"north\",\"end\""
   ]
  },
  {
   "cell_type": "markdown",
   "id": "53e38a7e-534a-416d-979c-5b61689b9bcd",
   "metadata": {},
   "source": [
    "Each game will be saved on the harddrive with a name (here it is \"my_game.csv\").\n",
    "\n",
    "This simple \"spreadsheet\" file has 4 columns:\n",
    "\n",
    "1. The first column in each row is either \"node\" or \"edge\" indicating whether it is a node or edge type\n",
    "2. The second depends on the type. If node type, then it is the name. If an edge type, then it is the name of the node it applies to.\n",
    "3. The third column is the description, if a node row. Else, it is a command\n",
    "4. The forth column is empty if it is a node row. It contains the name of the node to go to if it is an edge\n",
    "\n",
    "We now will write a loading program to create a game.\n",
    "\n",
    "We use the csv.DictReader class that reads the csv file into a dictionary."
   ]
  },
  {
   "cell_type": "code",
   "execution_count": 12,
   "id": "b00b8275-0e68-475e-a169-6ac76ac1554e",
   "metadata": {},
   "outputs": [],
   "source": [
    "import csv\n",
    "\n",
    "def load(filename):\n",
    "    with open(filename) as csvfile:\n",
    "        nodes = {}\n",
    "        fieldnames = ['column1', 'column2', 'column3', 'column4']\n",
    "        game_reader = csv.DictReader(csvfile, delimiter=\",\", fieldnames=fieldnames)\n",
    "        for line, row in enumerate(game_reader):\n",
    "            if line > 0: # skip\n",
    "                if row[\"column1\"] == \"node\":\n",
    "                    node = Node(row[\"column2\"], row[\"column3\"])\n",
    "                    nodes[node.name] = node\n",
    "                elif row[\"column1\"] == \"edge\":\n",
    "                    from_node_name = row['column2']\n",
    "                    command = row['column3']\n",
    "                    to_node_name = row['column4']\n",
    "                    nodes[from_node_name].edges.append(Edge(command, to_node_name))\n",
    "    return Game(nodes.values())"
   ]
  },
  {
   "cell_type": "markdown",
   "id": "4cef4b83-a14f-4a58-97f8-ffa16e930937",
   "metadata": {},
   "source": [
    "Now, instead of doing:"
   ]
  },
  {
   "cell_type": "code",
   "execution_count": 13,
   "id": "a15bfbbc-cb1e-4184-a414-8d1e9a43a829",
   "metadata": {},
   "outputs": [],
   "source": [
    "start = Node(\"start\", \"You find yourself in front of a scary mansion.\")\n",
    "end = Node(\"end\", \"You completed the game!\")\n",
    "start.edges.append(Edge(\"north\", \"end\"))\n",
    "game = Game([start, end])"
   ]
  },
  {
   "cell_type": "code",
   "execution_count": 14,
   "id": "16d61745-7eda-402e-a063-322b30cfe4e0",
   "metadata": {},
   "outputs": [
    {
     "data": {
      "text/html": [
       "<div>\n",
       "<style scoped>\n",
       "    .dataframe tbody tr th:only-of-type {\n",
       "        vertical-align: middle;\n",
       "    }\n",
       "\n",
       "    .dataframe tbody tr th {\n",
       "        vertical-align: top;\n",
       "    }\n",
       "\n",
       "    .dataframe thead th {\n",
       "        text-align: right;\n",
       "    }\n",
       "</style>\n",
       "<table border=\"1\" class=\"dataframe\">\n",
       "  <thead>\n",
       "    <tr style=\"text-align: right;\">\n",
       "      <th></th>\n",
       "      <th>column1</th>\n",
       "      <th>column2</th>\n",
       "      <th>column3</th>\n",
       "      <th>column4</th>\n",
       "    </tr>\n",
       "  </thead>\n",
       "  <tbody>\n",
       "    <tr>\n",
       "      <th>0</th>\n",
       "      <td>node</td>\n",
       "      <td>start</td>\n",
       "      <td>You find yourself in front of a scary mansion.</td>\n",
       "      <td>NaN</td>\n",
       "    </tr>\n",
       "    <tr>\n",
       "      <th>1</th>\n",
       "      <td>node</td>\n",
       "      <td>end</td>\n",
       "      <td>You completed the game!</td>\n",
       "      <td>NaN</td>\n",
       "    </tr>\n",
       "    <tr>\n",
       "      <th>2</th>\n",
       "      <td>edge</td>\n",
       "      <td>start</td>\n",
       "      <td>north</td>\n",
       "      <td>end</td>\n",
       "    </tr>\n",
       "  </tbody>\n",
       "</table>\n",
       "</div>"
      ],
      "text/plain": [
       "  column1 column2                                         column3 column4\n",
       "0    node   start  You find yourself in front of a scary mansion.     NaN\n",
       "1    node     end                         You completed the game!     NaN\n",
       "2    edge   start                                           north     end"
      ]
     },
     "execution_count": 14,
     "metadata": {},
     "output_type": "execute_result"
    }
   ],
   "source": [
    "import pandas as pd\n",
    "\n",
    "pd.read_csv(\"my_game.csv\")"
   ]
  },
  {
   "cell_type": "markdown",
   "id": "e09b1464-a57c-4268-b370-1406a25779b9",
   "metadata": {},
   "source": [
    "We can load that same information from a file:"
   ]
  },
  {
   "cell_type": "code",
   "execution_count": 15,
   "id": "50bbfe4c-b4cf-4f07-83ff-c825e3fb93f7",
   "metadata": {},
   "outputs": [],
   "source": [
    "game = load(\"my_game.csv\")"
   ]
  },
  {
   "cell_type": "code",
   "execution_count": 16,
   "id": "057ba509-61bb-4287-8af9-882011ebfdfc",
   "metadata": {},
   "outputs": [
    {
     "name": "stdout",
     "output_type": "stream",
     "text": [
      "You find yourself in front of a scary mansion.\n",
      "You see paths to the north\n"
     ]
    },
    {
     "name": "stdin",
     "output_type": "stream",
     "text": [
      "Enter a command:  north\n"
     ]
    },
    {
     "name": "stdout",
     "output_type": "stream",
     "text": [
      "You completed the game!\n"
     ]
    }
   ],
   "source": [
    "game.play()"
   ]
  },
  {
   "cell_type": "code",
   "execution_count": null,
   "id": "b2f8ba8b-5e05-4767-bec5-21ffcdf15f8e",
   "metadata": {},
   "outputs": [],
   "source": []
  }
 ],
 "metadata": {
  "kernelspec": {
   "display_name": "Python 3",
   "language": "python",
   "name": "python3"
  },
  "language_info": {
   "codemirror_mode": {
    "name": "ipython",
    "version": 3
   },
   "file_extension": ".py",
   "mimetype": "text/x-python",
   "name": "python",
   "nbconvert_exporter": "python",
   "pygments_lexer": "ipython3",
   "version": "3.8.5"
  },
  "widgets": {
   "application/vnd.jupyter.widget-state+json": {
    "state": {},
    "version_major": 2,
    "version_minor": 0
   }
  }
 },
 "nbformat": 4,
 "nbformat_minor": 5
}
